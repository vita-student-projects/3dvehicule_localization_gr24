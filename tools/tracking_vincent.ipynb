{
  "cells": [
    {
      "cell_type": "code",
      "execution_count": 2,
      "metadata": {
        "id": "tSVCHSSw2xOS"
      },
      "outputs": [],
      "source": [
        "import json\n",
        "import numpy as np\n",
        "from scipy.optimize import linear_sum_assignment\n",
        "import matplotlib.pyplot as plt\n",
        "from mpl_toolkits.mplot3d.art3d import Poly3DCollection, Line3DCollection\n",
        "from scipy.spatial import ConvexHull\n",
        "from numpy import *"
      ]
    },
    {
      "cell_type": "code",
      "execution_count": 3,
      "metadata": {
        "colab": {
          "base_uri": "https://localhost:8080/"
        },
        "id": "WKVuEx7_4HFu",
        "outputId": "e7ba1a4f-c710-4069-a3b6-3d9fe79a5d55"
      },
      "outputs": [
        {
          "data": {
            "text/plain": [
              "array([-0.15850592, -0.01596689,  0.25460434,  0.41596651, -0.03949976,\n",
              "        0.09378743,  0.03014982])"
            ]
          },
          "execution_count": 3,
          "metadata": {},
          "output_type": "execute_result"
        }
      ],
      "source": [
        "with open('bbox_3d.json') as json_file:\n",
        "    itemData = json.load(json_file)\n",
        "itemData[]\n",
        "np.array(itemData[0][\"boxes_3d\"][0])-np.array(itemData[5][\"boxes_3d\"][0])"
      ]
    },
    {
      "cell_type": "code",
      "execution_count": 4,
      "metadata": {},
      "outputs": [],
      "source": [
        "def polygon_clip(subjectPolygon, clipPolygon):\n",
        "   \"\"\" Clip a polygon with another polygon.\n",
        "\n",
        "   Ref: https://rosettacode.org/wiki/Sutherland-Hodgman_polygon_clipping#Python\n",
        "\n",
        "   Args:\n",
        "     subjectPolygon: a list of (x,y) 2d points, any polygon.\n",
        "     clipPolygon: a list of (x,y) 2d points, has to be *convex*\n",
        "   Note:\n",
        "     **points have to be counter-clockwise ordered**\n",
        "\n",
        "   Return:\n",
        "     a list of (x,y) vertex point for the intersection polygon.\n",
        "   \"\"\"\n",
        "   def inside(p):\n",
        "      return(cp2[0]-cp1[0])*(p[1]-cp1[1]) > (cp2[1]-cp1[1])*(p[0]-cp1[0])\n",
        " \n",
        "   def computeIntersection():\n",
        "      dc = [ cp1[0] - cp2[0], cp1[1] - cp2[1] ]\n",
        "      dp = [ s[0] - e[0], s[1] - e[1] ]\n",
        "      n1 = cp1[0] * cp2[1] - cp1[1] * cp2[0]\n",
        "      n2 = s[0] * e[1] - s[1] * e[0] \n",
        "      n3 = 1.0 / (dc[0] * dp[1] - dc[1] * dp[0])\n",
        "      return [(n1*dp[0] - n2*dc[0]) * n3, (n1*dp[1] - n2*dc[1]) * n3]\n",
        " \n",
        "   outputList = subjectPolygon\n",
        "   cp1 = clipPolygon[-1]\n",
        " \n",
        "   for clipVertex in clipPolygon:\n",
        "      cp2 = clipVertex\n",
        "      inputList = outputList\n",
        "      outputList = []\n",
        "      s = inputList[-1]\n",
        " \n",
        "      for subjectVertex in inputList:\n",
        "         e = subjectVertex\n",
        "         if inside(e):\n",
        "            if not inside(s):\n",
        "               outputList.append(computeIntersection())\n",
        "            outputList.append(e)\n",
        "         elif inside(s):\n",
        "            outputList.append(computeIntersection())\n",
        "         s = e\n",
        "      cp1 = cp2\n",
        "      if len(outputList) == 0:\n",
        "          return None\n",
        "   return(outputList)\n",
        "\n",
        "def poly_area(x,y):\n",
        "    \"\"\" Ref: http://stackoverflow.com/questions/24467972/calculate-area-of-polygon-given-x-y-coordinates \"\"\"\n",
        "    return 0.5*np.abs(np.dot(x,np.roll(y,1))-np.dot(y,np.roll(x,1)))\n",
        "\n",
        "def convex_hull_intersection(p1, p2):\n",
        "    \"\"\" Compute area of two convex hull's intersection area.\n",
        "        p1,p2 are a list of (x,y) tuples of hull vertices.\n",
        "        return a list of (x,y) for the intersection and its volume\n",
        "    \"\"\"\n",
        "    inter_p = polygon_clip(p1,p2)\n",
        "    if inter_p is not None:\n",
        "        hull_inter = ConvexHull(inter_p)\n",
        "        return inter_p, hull_inter.volume\n",
        "    else:\n",
        "        return None, 0.0  \n",
        "\n",
        "def box3d_vol(corners):\n",
        "    ''' corners: (8,3) no assumption on axis direction '''\n",
        "    a = np.sqrt(np.sum((corners[0,:] - corners[1,:])**2))\n",
        "    b = np.sqrt(np.sum((corners[1,:] - corners[2,:])**2))\n",
        "    c = np.sqrt(np.sum((corners[0,:] - corners[4,:])**2))\n",
        "    return a*b*c\n",
        "\n",
        "def is_clockwise(p):\n",
        "    x = p[:,0]\n",
        "    y = p[:,1]\n",
        "    return np.dot(x,np.roll(y,1))-np.dot(y,np.roll(x,1)) > 0\n",
        "\n",
        "def box3d_iou(corners1, corners2):\n",
        "    ''' Compute 3D bounding box IoU.\n",
        "\n",
        "    Input:\n",
        "        corners1: numpy array (8,3), assume up direction is negative Y\n",
        "        corners2: numpy array (8,3), assume up direction is negative Y\n",
        "    Output:\n",
        "        iou: 3D bounding box IoU\n",
        "        iou_2d: bird's eye view 2D bounding box IoU\n",
        "\n",
        "    todo (kent): add more description on corner points' orders.\n",
        "    '''\n",
        "    # corner points are in counter clockwise order\n",
        "    rect1 = [(corners1[i,0], corners1[i,2]) for i in range(3,-1,-1)]\n",
        "    rect2 = [(corners2[i,0], corners2[i,2]) for i in range(3,-1,-1)] \n",
        "    \n",
        "    area1 = poly_area(np.array(rect1)[:,0], np.array(rect1)[:,1])\n",
        "    area2 = poly_area(np.array(rect2)[:,0], np.array(rect2)[:,1])\n",
        "   \n",
        "    inter, inter_area = convex_hull_intersection(rect1, rect2)\n",
        "    iou_2d = inter_area/(area1+area2-inter_area)\n",
        "    ymax = min(corners1[0,1], corners2[0,1])\n",
        "    ymin = max(corners1[4,1], corners2[4,1])\n",
        "\n",
        "    inter_vol = inter_area * max(0.0, ymax-ymin)\n",
        "    \n",
        "    vol1 = box3d_vol(corners1)\n",
        "    vol2 = box3d_vol(corners2)\n",
        "    iou = inter_vol / (vol1 + vol2 - inter_vol)\n",
        "    return iou, iou_2d\n",
        "\n",
        "# ----------------------------------\n",
        "# Helper functions for evaluation\n",
        "# ----------------------------------\n",
        "\n",
        "def get_3d_box(box_size, heading_angle, center):\n",
        "    ''' Calculate 3D bounding box corners from its parameterization.\n",
        "\n",
        "    Input:\n",
        "        box_size: tuple of (length,wide,height)\n",
        "        heading_angle: rad scalar, clockwise from pos x axis\n",
        "        center: tuple of (x,y,z)\n",
        "    Output:\n",
        "        corners_3d: numpy array of shape (8,3) for 3D box cornders\n",
        "    '''\n",
        "    def roty(t):\n",
        "        c = np.cos(t)\n",
        "        s = np.sin(t)\n",
        "        return np.array([[c,  0,  s],\n",
        "                         [0,  1,  0],\n",
        "                         [-s, 0,  c]])\n",
        "\n",
        "    R = roty(heading_angle)\n",
        "    l,w,h = box_size\n",
        "    x_corners = [l/2,l/2,-l/2,-l/2,l/2,l/2,-l/2,-l/2];\n",
        "    y_corners = [h/2,h/2,h/2,h/2,-h/2,-h/2,-h/2,-h/2];\n",
        "    z_corners = [w/2,-w/2,-w/2,w/2,w/2,-w/2,-w/2,w/2];\n",
        "    corners_3d = np.dot(R, np.vstack([x_corners,y_corners,z_corners]))\n",
        "    corners_3d[0,:] = corners_3d[0,:] + center[0];\n",
        "    corners_3d[1,:] = corners_3d[1,:] + center[1];\n",
        "    corners_3d[2,:] = corners_3d[2,:] + center[2];\n",
        "    corners_3d = np.transpose(corners_3d)\n",
        "    return corners_3d"
      ]
    },
    {
      "cell_type": "code",
      "execution_count": 5,
      "metadata": {},
      "outputs": [],
      "source": [
        "from filterpy.kalman import KalmanFilter\n",
        "\n",
        "\n",
        "class KalmanBox3DTracker(object):\n",
        "    \"\"\"\n",
        "    This class represents the internel state of individual tracked objects\n",
        "    observed as bbox.\n",
        "    \"\"\"\n",
        "    count = 0\n",
        "\n",
        "    def __init__(self, bbox3D, info=False):\n",
        "        \"\"\"\n",
        "        Initialises a tracker using initial bounding box.\n",
        "        \"\"\"\n",
        "        # define constant velocity model\n",
        "        # coord3d - array of detections [x,y,z,theta,l,w,h]\n",
        "        # X,Y,Z,theta, l, w, h, dX, dY, dZ\n",
        "        self.kf = KalmanFilter(dim_x=10, dim_z=7)\n",
        "        self.kf.F = np.array([\n",
        "            [1, 0, 0, 0, 0, 0, 0, 1, 0, 0],  # state transition matrix\n",
        "            [0, 1, 0, 0, 0, 0, 0, 0, 1, 0],\n",
        "            [0, 0, 1, 0, 0, 0, 0, 0, 0, 1],\n",
        "            [0, 0, 0, 1, 0, 0, 0, 0, 0, 0],\n",
        "            [0, 0, 0, 0, 1, 0, 0, 0, 0, 0],\n",
        "            [0, 0, 0, 0, 0, 1, 0, 0, 0, 0],\n",
        "            [0, 0, 0, 0, 0, 0, 1, 0, 0, 0],\n",
        "            [0, 0, 0, 0, 0, 0, 0, 1, 0, 0],\n",
        "            [0, 0, 0, 0, 0, 0, 0, 0, 1, 0],\n",
        "            [0, 0, 0, 0, 0, 0, 0, 0, 0, 1]\n",
        "        ])\n",
        "\n",
        "        self.kf.H = np.array([\n",
        "            [1, 0, 0, 0, 0, 0, 0, 0, 0, 0],  # measurement function,\n",
        "            [0, 1, 0, 0, 0, 0, 0, 0, 0, 0],\n",
        "            [0, 0, 1, 0, 0, 0, 0, 0, 0, 0],\n",
        "            [0, 0, 0, 1, 0, 0, 0, 0, 0, 0],\n",
        "            [0, 0, 0, 0, 1, 0, 0, 0, 0, 0],\n",
        "            [0, 0, 0, 0, 0, 1, 0, 0, 0, 0],\n",
        "            [0, 0, 0, 0, 0, 0, 1, 0, 0, 0]\n",
        "        ])\n",
        "\n",
        "        # state uncertainty, give high uncertainty to\n",
        "        self.kf.P[7:, 7:] *= 1000.\n",
        "        # the unobservable initial velocities, covariance matrix\n",
        "        self.kf.P *= 10.\n",
        "\n",
        "        # self.kf.Q[-1,-1] *= 0.01    # process uncertainty\n",
        "        self.kf.Q[7:, 7:] *= 0.01\n",
        "        self.kf.x[:7] = bbox3D.reshape((7, 1))\n",
        "\n",
        "        self.time_since_update = 0\n",
        "        self.id = KalmanBox3DTracker.count\n",
        "        KalmanBox3DTracker.count += 1\n",
        "        self.nfr = 5\n",
        "        self.history = []\n",
        "        self.prev_ref = bbox3D\n",
        "        self.hits = 1  # number of total hits including the first detection\n",
        "        self.hit_streak = 1  # number of continuing hit considering the first\n",
        "        # detection\n",
        "        self.age = 0\n",
        "        self.info = info  # other info\n",
        "\n",
        "    @property\n",
        "    def obj_state(self):\n",
        "        return self.kf.x.flatten()\n",
        "\n",
        "    def _update_history(self, bbox3D):\n",
        "        self.history = self.history[1:] + [bbox3D - self.prev_ref]\n",
        "\n",
        "    def _init_history(self, bbox3D):\n",
        "        self.history = [bbox3D - self.prev_ref] * self.nfr\n",
        "\n",
        "    def update(self, bbox3D, info=False):\n",
        "        \"\"\"\n",
        "        Updates the state vector with observed bbox.\n",
        "        \"\"\"\n",
        "        self.hits += 1\n",
        "        self.hit_streak += 1  # number of continuing hit\n",
        "        self.time_since_update = 0\n",
        "\n",
        "        # orientation correction\n",
        "        if self.kf.x[3] >= np.pi:\n",
        "            self.kf.x[3] -= np.pi * 2  # make the theta still in the range\n",
        "        if self.kf.x[3] < -np.pi:\n",
        "            self.kf.x[3] += np.pi * 2\n",
        "\n",
        "        new_theta = bbox3D[3]\n",
        "        if new_theta >= np.pi:\n",
        "            new_theta -= np.pi * 2  # make the theta still in the range\n",
        "        if new_theta < -np.pi:\n",
        "            new_theta += np.pi * 2\n",
        "        bbox3D[3] = new_theta\n",
        "\n",
        "        predicted_theta = self.kf.x[3]\n",
        "        # if the angle of two theta is not acute angle\n",
        "        if np.pi / 2.0 < abs(new_theta - predicted_theta) < np.pi * 3 / 2.0:\n",
        "            self.kf.x[3] += np.pi\n",
        "            if self.kf.x[3] > np.pi:\n",
        "                self.kf.x[3] -= np.pi * 2  # make the theta still in the range\n",
        "            if self.kf.x[3] < -np.pi:\n",
        "                self.kf.x[3] += np.pi * 2\n",
        "\n",
        "        # now the angle is acute: < 90 or > 270, convert the case of > 270 to\n",
        "        # < 90\n",
        "        if abs(new_theta - self.kf.x[3]) >= np.pi * 3 / 2.0:\n",
        "            if new_theta > 0:\n",
        "                self.kf.x[3] += np.pi * 2\n",
        "            else:\n",
        "                self.kf.x[3] -= np.pi * 2\n",
        "\n",
        "        # Update the bbox3D\n",
        "        self.kf.update(bbox3D)\n",
        "\n",
        "        if self.kf.x[3] >= np.pi:\n",
        "            self.kf.x[3] -= np.pi * 2  # make the theta still in the range\n",
        "        if self.kf.x[3] < -np.pi:\n",
        "            self.kf.x[3] += np.pi * 2\n",
        "        self.info = info\n",
        "        self.prev_ref = self.kf.x.flatten()[:7]\n",
        "\n",
        "    def predict(self, update_state: bool = True):\n",
        "        \"\"\"\n",
        "        Advances the state vector and returns the predicted bounding box\n",
        "        estimate.\n",
        "        \"\"\"\n",
        "        self.kf.predict()\n",
        "        if self.kf.x[3] >= np.pi: self.kf.x[3] -= np.pi * 2\n",
        "        if self.kf.x[3] < -np.pi: self.kf.x[3] += np.pi * 2\n",
        "\n",
        "        self.age += 1\n",
        "        if self.time_since_update > 0:\n",
        "            self.hit_streak = 0\n",
        "        self.time_since_update += 1\n",
        "        return self.kf.x.flatten()\n",
        "\n",
        "    def get_state(self):\n",
        "        \"\"\"\n",
        "        Returns the current bounding box estimate.\n",
        "        \"\"\"\n",
        "        return self.kf.x.flatten()\n",
        "\n",
        "    def get_history(self):\n",
        "        \"\"\"\n",
        "        Returns the history of estimates.\n",
        "        \"\"\"\n",
        "        return self.history\n",
        "\n",
        "\n"
      ]
    },
    {
      "cell_type": "code",
      "execution_count": 6,
      "metadata": {},
      "outputs": [],
      "source": [
        "\n",
        "class TrackletManager:\n",
        "    def __init__(self):\n",
        "        self.tracklets = []\n",
        "    def plot_bounding_boxes(self,boxes,color):\n",
        "        # Create a figure and a 3D axis\n",
        "        fig = plt.figure()\n",
        "        ax = fig.add_subplot(111, projection='3d')\n",
        "\n",
        "        # Define colors for the bounding boxes\n",
        "        colors = [color] * len(boxes)\n",
        "\n",
        "        # Loop over the bounding boxes and their respective colors\n",
        "        for vertices, color in zip(boxes, colors):\n",
        "            # Extract x, y, and z coordinates\n",
        "            x = vertices[:, 0]\n",
        "            y = vertices[:, 1]\n",
        "            z = vertices[:, 2]\n",
        "\n",
        "            # Plot the corners as scatter points\n",
        "            ax.scatter(x, y, z, c=color, marker='o')\n",
        "\n",
        "            # Define the faces of the bounding box\n",
        "            faces = np.array([\n",
        "                [0, 1, 2, 3],  # Bottom face\n",
        "                [4, 5, 6, 7],  # Top face\n",
        "                [0, 1, 5, 4],  # Side face 1\n",
        "                [1, 2, 6, 5],  # Side face 2\n",
        "                [2, 3, 7, 6],  # Side face 3\n",
        "                [3, 0, 4, 7]   # Side face 4\n",
        "            ])\n",
        "\n",
        "            # Create a Poly3DCollection object and add it to the plot\n",
        "            collection = Poly3DCollection(vertices[faces])\n",
        "            collection.set_alpha(0.2)  # Set the transparency of the bounding box\n",
        "            collection.set_facecolor(color)  # Set the color of the bounding box\n",
        "            ax.add_collection3d(collection)\n",
        "\n",
        "            # Define the lines of the bounding box\n",
        "            lines = [\n",
        "                [vertices[0], vertices[1]],\n",
        "                [vertices[1], vertices[2]],\n",
        "                [vertices[2], vertices[3]],\n",
        "                [vertices[3], vertices[0]],\n",
        "                [vertices[4], vertices[5]],\n",
        "                [vertices[5], vertices[6]],\n",
        "                [vertices[6], vertices[7]],\n",
        "                [vertices[7], vertices[4]],\n",
        "                [vertices[0], vertices[4]],\n",
        "                [vertices[1], vertices[5]],\n",
        "                [vertices[2], vertices[6]],\n",
        "                [vertices[3], vertices[7]]\n",
        "            ]\n",
        "\n",
        "            # Create a Line3DCollection object and add it to the plot\n",
        "            lines_collection = Line3DCollection(lines, colors=color)\n",
        "            ax.add_collection(lines_collection)\n",
        "\n",
        "        # Set labels and title\n",
        "        ax.set_xlabel('X')\n",
        "        ax.set_ylabel('Y')\n",
        "        ax.set_zlabel('Z')\n",
        "        ax.set_title('Bounding Boxes')\n",
        "\n",
        "        # Set axis limits if needed\n",
        "        # ax.set_xlim([xmin, xmax])\n",
        "        # ax.set_ylim([ymin, ymax])\n",
        "        # ax.set_zlim([zmin, zmax])\n",
        "\n",
        "        # Show the plot\n",
        "        plt.axis('scaled')\n",
        "\n",
        "        ax.view_init(-70,-70,-20)\n",
        "        #plt.show()\n",
        "\n",
        "\n",
        "    def compute_iou_matrix(self,detections_t, detections_tplus1):\n",
        "        num_detections_t = len(detections_t)\n",
        "        num_detections_tplus1 = len(detections_tplus1)\n",
        "\n",
        "        iou_matrix = np.zeros((num_detections_t, num_detections_tplus1))\n",
        "\n",
        "        for i in range(num_detections_t):\n",
        "            x1, y1, z1, w1, l1, h1, theta1 = detections_t[i]\n",
        "            corners_3d_box1  = get_3d_box((w1, l1, h1), theta1, (x1, y1, z1))\n",
        "        \n",
        "            for j in range(num_detections_tplus1):\n",
        "                x2, y2, z2, w2, l2, h2, theta2 = detections_tplus1[j]\n",
        "                corners_3d_box2 = get_3d_box((w2, l2, h2), theta2, (x2, y2, z2))\n",
        "                # self.plot_bounding_boxes([corners_3d_box1,corners_3d_box2])\n",
        "                iou_matrix[i, j], _ = box3d_iou(corners_3d_box1,corners_3d_box2)\n",
        "\n",
        "        return iou_matrix\n",
        "    def tracklets_detections(self, tracklets, current_detections, row_indices, col_indices, iou_matrix, threshold):\n",
        "        cost_matrix = 1 - iou_matrix\n",
        "\n",
        "        associations = list(zip(row_indices, col_indices))\n",
        "        indexes_to_delete = []\n",
        "        for association in associations:\n",
        "            tracklet_id = association[0]\n",
        "            associated_detection_id = association[1]\n",
        "            if cost_matrix[tracklet_id][associated_detection_id] > threshold:\n",
        "                tracklets[tracklet_id][\"3d_boxes\"] = (current_detections[associated_detection_id])\n",
        "                tracklets[tracklet_id][\"Timeout\"] = 0\n",
        "            else :\n",
        "                indexes_to_delete.append(tracklet_id)\n",
        "        for index in sorted(indexes_to_delete, reverse=True):     \n",
        "            del tracklets[index]\n",
        "        \n",
        "        indexes_to_delete = []\n",
        "        for index, element in enumerate(tracklets):\n",
        "            element[\"Timeout\"] += 1\n",
        "            if element[\"Timeout\"] > 10:\n",
        "                indexes_to_delete.append(index)\n",
        "        for index in sorted(indexes_to_delete, reverse=True):  \n",
        "            del tracklets[index]\n",
        "\n",
        "        for detection_id in list(set(range(len(new_detections))) - set(col_indices)): \n",
        "            print(\"new tracklet\",detection_id)\n",
        "            tracklets.append({\"3d_boxes\":new_detections[detection_id],\"Timeout\":0})\n",
        "        \n",
        "        for tracklet in tracklets:\n",
        "            if len(tracklet['3d_boxes']) > 10:\n",
        "        \n",
        "                tracklet[\"3d_boxes\"] = tracklet[\"3d_boxes\"][-10:]\n",
        "        return tracklets\n",
        "\n",
        "    def perform_hungarian_algorithm(self,iou_matrix):\n",
        "        # Invert the IOU matrix to convert it to a cost matrix\n",
        "        cost_matrix = 1 - iou_matrix\n",
        "        # print(cost_matrix)\n",
        "\n",
        "        # Solve the assignment problem using the Hungarian Algorithm\n",
        "        row_indices, col_indices = linear_sum_assignment(cost_matrix)\n",
        "\n",
        "        return row_indices, col_indices\n",
        "\n",
        "    def get_last_tracklets(self):\n",
        "        last_tracklets = []\n",
        "        for tracklet in self.tracklets:\n",
        "            last_tracklets.append(tracklet[\"3d_boxes\"])\n",
        "        return last_tracklets\n",
        "    def update_tracklets(self,new_detections):\n",
        "\n",
        "\n",
        "        # COMPUTE IOU MATRIX BETWEEN CURRENT TRACKLETS AND NEW DETECTIONS\n",
        "        last_tracklets_box = self.get_last_tracklets()\n",
        "        if last_tracklets_box == []:\n",
        "            for detection in new_detections:\n",
        "                self.tracklets.append({\"3d_boxes\":detection,\"Timeout\":0,\"Kalman\":KalmanBox3DTracker(np.array(detection))})\n",
        "            return self.tracklets\n",
        "        \n",
        "        iou_matrix = self.compute_iou_matrix(last_tracklets_box,new_detections)\n",
        "        row_indices, col_indices = self.perform_hungarian_algorithm(iou_matrix)\n",
        "\n",
        "        current_tracklets_dict_list = self.tracklets_detections(self.tracklets, new_detections, row_indices, col_indices, iou_matrix, threshold=0.2)\n",
        "        return self.tracklets\n",
        "    def predict_and_update_kalman(self):\n",
        "        results=[]\n",
        "        for tracklet in self.tracklets:\n",
        "            tracklet['Kalman'].predict()\n",
        "            tracklet['Kalman'].update(tracklet['3d_boxes'])\n",
        "            results.append(tracklet['Kalman'].get_state()[:6])\n",
        "        return results\n",
        "\n",
        "\n",
        "trackletmanager = TrackletManager()\n",
        "boxes = []\n",
        "refined_frames = []\n",
        "for frame in itemData[0:10]:\n",
        "    new_detections = list(frame['boxes_3d']).copy()\n",
        "    # print(new_detections)\n",
        "\n",
        "    # for detection in new_detections:   \n",
        "    #     x1, y1, z1, w1, h1, l1, theta1 = detection\n",
        "    #     boxes.append(get_3d_box((w1, l1, h1), theta1, (x1, y1, z1)))\n",
        "    # print(len(boxes))\n",
        "    # trackletmanager.plot_bounding_boxes(boxes,'b')\n",
        "    tracketls = trackletmanager.update_tracklets(new_detections)\n",
        "    refined_frame = trackletmanager.predict_and_update_kalman()\n",
        "    refined_frames.append(refined_frame)\n",
        "    # print((tracketls))\n",
        "    # print(len(tracketls[0]['3d_boxes']))\n"
      ]
    },
    {
      "cell_type": "code",
      "execution_count": 18,
      "metadata": {},
      "outputs": [
        {
          "name": "stdout",
          "output_type": "stream",
          "text": [
            "[[1. 1. 1. 1. 1. 1. 1. 1. 1.]\n",
            " [1. 1. 1. 1. 1. 1. 1. 1. 1.]\n",
            " [1. 1. 1. 1. 1. 1. 1. 1. 1.]\n",
            " [1. 1. 1. 1. 1. 1. 1. 1. 1.]\n",
            " [1. 1. 1. 1. 1. 1. 1. 1. 1.]\n",
            " [1. 1. 1. 1. 1. 1. 1. 1. 1.]\n",
            " [1. 1. 1. 1. 1. 1. 1. 1. 1.]\n",
            " [1. 1. 1. 1. 1. 1. 1. 1. 1.]\n",
            " [1. 1. 1. 1. 1. 1. 1. 1. 1.]]\n"
          ]
        },
        {
          "ename": "UnboundLocalError",
          "evalue": "local variable 'current_tracklets_dict_list' referenced before assignment",
          "output_type": "error",
          "traceback": [
            "\u001b[1;31m---------------------------------------------------------------------------\u001b[0m",
            "\u001b[1;31mUnboundLocalError\u001b[0m                         Traceback (most recent call last)",
            "Cell \u001b[1;32mIn[18], line 7\u001b[0m\n\u001b[0;32m      3\u001b[0m trackletmanager\u001b[39m.\u001b[39mupdate_tracklets(new_detections)\n\u001b[0;32m      6\u001b[0m new_detections \u001b[39m=\u001b[39m itemData[\u001b[39m1\u001b[39m][\u001b[39m'\u001b[39m\u001b[39mboxes_3d\u001b[39m\u001b[39m'\u001b[39m]\n\u001b[1;32m----> 7\u001b[0m trackletmanager\u001b[39m.\u001b[39;49mupdate_tracklets(new_detections)\n",
            "Cell \u001b[1;32mIn[17], line 280\u001b[0m, in \u001b[0;36mTrackletManager.update_tracklets\u001b[1;34m(self, new_detections)\u001b[0m\n\u001b[0;32m    277\u001b[0m iou_matrix \u001b[39m=\u001b[39m \u001b[39mself\u001b[39m\u001b[39m.\u001b[39mcompute_iou_matrix(last_tracklets_box,new_detections)\n\u001b[0;32m    278\u001b[0m row_indices, col_indices \u001b[39m=\u001b[39m \u001b[39mself\u001b[39m\u001b[39m.\u001b[39mperform_hungarian_algorithm(iou_matrix)\n\u001b[1;32m--> 280\u001b[0m current_tracklets_dict_list \u001b[39m=\u001b[39m \u001b[39mself\u001b[39m\u001b[39m.\u001b[39mtracklets_detections(current_tracklets_dict_list, tracklets, new_detections, row_indices, col_indices, iou_matrix, threshold\u001b[39m=\u001b[39m\u001b[39m0.3\u001b[39m)\n\u001b[0;32m    281\u001b[0m \u001b[39mreturn\u001b[39;00m \u001b[39mself\u001b[39m\u001b[39m.\u001b[39mtracklets\n",
            "\u001b[1;31mUnboundLocalError\u001b[0m: local variable 'current_tracklets_dict_list' referenced before assignment"
          ]
        }
      ],
      "source": [
        "from utils.visualizer import Visualizer\n",
        "visualizer = Visualizer(dataset, vis_format=vis_results)\n",
        "\n",
        "visualizer.export_as_video(args.save_dir, plot_items=['3d','2d','bev'], fps=args.fps)"
      ]
    },
    {
      "cell_type": "code",
      "execution_count": 5,
      "metadata": {
        "id": "2Gs9O08bftr3"
      },
      "outputs": [],
      "source": [
        "### ALTERNATIVE CODE FROM : https://github.com/AlienCat-K/3D-IoU-Python/blob/master/3D-IoU-Python.py\n",
        "\n",
        "# 3D IoU caculate code for 3D object detection \n",
        "# Kent 2018/12\n",
        "\n",
        "import numpy as np\n",
        "from scipy.spatial import ConvexHull\n",
        "from numpy import *\n",
        "\n",
        "\n",
        "\n",
        "\n",
        "# ----------------------------------\n",
        "# Helper functions for evaluation\n",
        "# ----------------------------------\n",
        "\n",
        "\n",
        "    \n"
      ]
    },
    {
      "cell_type": "code",
      "execution_count": 6,
      "metadata": {
        "colab": {
          "base_uri": "https://localhost:8080/"
        },
        "id": "e83etyOJf2C-",
        "outputId": "2609127e-aa04-4146-e2be-56b71169ff53"
      },
      "outputs": [
        {
          "name": "stdout",
          "output_type": "stream",
          "text": [
            "------------------\n",
            "0.10809978762440535 0.11109720832133732\n"
          ]
        }
      ],
      "source": [
        "print('------------------')\n",
        "# get_3d_box(box_size, heading_angle, center)\n",
        "\n",
        "x1, y1, z1, w1, h1, l1, theta1 = itemData[0][\"boxes_3d\"][-1]\n",
        "\n",
        "x2, y2, z2, w2, h2, l2, theta2 = itemData[1][\"boxes_3d\"][-1]\n",
        "\n",
        "corners_3d_box1  = get_3d_box((l1, w1, h1), theta1, (x1, y1, z1)) \n",
        "corners_3d_box2 = get_3d_box((l2, w2, h2), theta2, (x2, y2, z2))\n",
        "\n",
        "\n",
        "(IOU_3d,IOU_2d)=box3d_iou(corners_3d_box1,corners_3d_box2)\n",
        "print (IOU_3d,IOU_2d) #3d IoU/ 2d IoU of BEV(bird eye's view)"
      ]
    },
    {
      "cell_type": "code",
      "execution_count": 8,
      "metadata": {
        "colab": {
          "base_uri": "https://localhost:8080/",
          "height": 717
        },
        "id": "S1L0QcHNCddm",
        "outputId": "f882324c-8145-4725-cb2c-6a7d136d5abb"
      },
      "outputs": [
        {
          "name": "stdout",
          "output_type": "stream",
          "text": [
            "-1.5819451808929443\n",
            "-1.570481777191162\n",
            "[array([[ 2.14627754,  1.73486698, 11.54698229],\n",
            "       [ 3.59468839,  1.73486698, 11.56313108],\n",
            "       [ 3.6369027 ,  1.73486698,  7.77686262],\n",
            "       [ 2.18849185,  1.73486698,  7.76071383],\n",
            "       [ 2.14627754,  0.14201248, 11.54698229],\n",
            "       [ 3.59468839,  0.14201248, 11.56313108],\n",
            "       [ 3.6369027 ,  0.14201248,  7.77686262],\n",
            "       [ 2.18849185,  0.14201248,  7.76071383]]), array([[ 2.16093174,  1.7365768 , 10.57029274],\n",
            "       [ 3.60638626,  1.7365768 , 10.56983807],\n",
            "       [ 3.60520872,  1.7365768 ,  6.82627174],\n",
            "       [ 2.1597542 ,  1.7365768 ,  6.82672641],\n",
            "       [ 2.16093174,  0.14552999, 10.57029274],\n",
            "       [ 3.60638626,  0.14552999, 10.56983807],\n",
            "       [ 3.60520872,  0.14552999,  6.82627174],\n",
            "       [ 2.1597542 ,  0.14552999,  6.82672641]])]\n"
          ]
        },
        {
          "ename": "NotImplementedError",
          "evalue": "Axes3D currently only supports the aspect argument 'auto'. You passed in 'equal'.",
          "output_type": "error",
          "traceback": [
            "\u001b[0;31m---------------------------------------------------------------------------\u001b[0m",
            "\u001b[0;31mNotImplementedError\u001b[0m                       Traceback (most recent call last)",
            "Cell \u001b[0;32mIn[8], line 91\u001b[0m\n\u001b[1;32m     89\u001b[0m \u001b[39mprint\u001b[39m(boxes)\n\u001b[1;32m     90\u001b[0m \u001b[39m# Plot the bounding boxes with different colors\u001b[39;00m\n\u001b[0;32m---> 91\u001b[0m plot_bounding_boxes(boxes)\n",
            "Cell \u001b[0;32mIn[8], line 72\u001b[0m, in \u001b[0;36mplot_bounding_boxes\u001b[0;34m(boxes)\u001b[0m\n\u001b[1;32m     64\u001b[0m ax\u001b[39m.\u001b[39mset_title(\u001b[39m'\u001b[39m\u001b[39mBounding Boxes\u001b[39m\u001b[39m'\u001b[39m)\n\u001b[1;32m     66\u001b[0m \u001b[39m# Set axis limits if needed\u001b[39;00m\n\u001b[1;32m     67\u001b[0m \u001b[39m# ax.set_xlim([xmin, xmax])\u001b[39;00m\n\u001b[1;32m     68\u001b[0m \u001b[39m# ax.set_ylim([ymin, ymax])\u001b[39;00m\n\u001b[1;32m     69\u001b[0m \u001b[39m# ax.set_zlim([zmin, zmax])\u001b[39;00m\n\u001b[1;32m     70\u001b[0m \n\u001b[1;32m     71\u001b[0m \u001b[39m# Show the plot\u001b[39;00m\n\u001b[0;32m---> 72\u001b[0m plt\u001b[39m.\u001b[39;49maxis(\u001b[39m'\u001b[39;49m\u001b[39mscaled\u001b[39;49m\u001b[39m'\u001b[39;49m)\n\u001b[1;32m     74\u001b[0m ax\u001b[39m.\u001b[39mview_init(\u001b[39m-\u001b[39m\u001b[39m70\u001b[39m,\u001b[39m-\u001b[39m\u001b[39m70\u001b[39m,\u001b[39m-\u001b[39m\u001b[39m20\u001b[39m)\n",
            "File \u001b[0;32m~/noah-ml/noah-venv/lib/python3.9/site-packages/matplotlib/pyplot.py:2373\u001b[0m, in \u001b[0;36maxis\u001b[0;34m(emit, *args, **kwargs)\u001b[0m\n\u001b[1;32m   2371\u001b[0m \u001b[39m@_copy_docstring_and_deprecators\u001b[39m(Axes\u001b[39m.\u001b[39maxis)\n\u001b[1;32m   2372\u001b[0m \u001b[39mdef\u001b[39;00m \u001b[39maxis\u001b[39m(\u001b[39m*\u001b[39margs, emit\u001b[39m=\u001b[39m\u001b[39mTrue\u001b[39;00m, \u001b[39m*\u001b[39m\u001b[39m*\u001b[39mkwargs):\n\u001b[0;32m-> 2373\u001b[0m     \u001b[39mreturn\u001b[39;00m gca()\u001b[39m.\u001b[39;49maxis(\u001b[39m*\u001b[39;49margs, emit\u001b[39m=\u001b[39;49memit, \u001b[39m*\u001b[39;49m\u001b[39m*\u001b[39;49mkwargs)\n",
            "File \u001b[0;32m~/noah-ml/noah-venv/lib/python3.9/site-packages/matplotlib/axes/_base.py:2054\u001b[0m, in \u001b[0;36m_AxesBase.axis\u001b[0;34m(self, emit, *args, **kwargs)\u001b[0m\n\u001b[1;32m   2052\u001b[0m     \u001b[39mself\u001b[39m\u001b[39m.\u001b[39mset_aspect(\u001b[39m'\u001b[39m\u001b[39mequal\u001b[39m\u001b[39m'\u001b[39m, adjustable\u001b[39m=\u001b[39m\u001b[39m'\u001b[39m\u001b[39mdatalim\u001b[39m\u001b[39m'\u001b[39m)\n\u001b[1;32m   2053\u001b[0m \u001b[39melif\u001b[39;00m s \u001b[39m==\u001b[39m \u001b[39m'\u001b[39m\u001b[39mscaled\u001b[39m\u001b[39m'\u001b[39m:\n\u001b[0;32m-> 2054\u001b[0m     \u001b[39mself\u001b[39;49m\u001b[39m.\u001b[39;49mset_aspect(\u001b[39m'\u001b[39;49m\u001b[39mequal\u001b[39;49m\u001b[39m'\u001b[39;49m, adjustable\u001b[39m=\u001b[39;49m\u001b[39m'\u001b[39;49m\u001b[39mbox\u001b[39;49m\u001b[39m'\u001b[39;49m, anchor\u001b[39m=\u001b[39;49m\u001b[39m'\u001b[39;49m\u001b[39mC\u001b[39;49m\u001b[39m'\u001b[39;49m)\n\u001b[1;32m   2055\u001b[0m     \u001b[39mself\u001b[39m\u001b[39m.\u001b[39mset_autoscale_on(\u001b[39mFalse\u001b[39;00m)  \u001b[39m# Req. by Mark Bakker\u001b[39;00m\n\u001b[1;32m   2056\u001b[0m \u001b[39melif\u001b[39;00m s \u001b[39m==\u001b[39m \u001b[39m'\u001b[39m\u001b[39mtight\u001b[39m\u001b[39m'\u001b[39m:\n",
            "File \u001b[0;32m~/noah-ml/noah-venv/lib/python3.9/site-packages/mpl_toolkits/mplot3d/axes3d.py:311\u001b[0m, in \u001b[0;36mAxes3D.set_aspect\u001b[0;34m(self, aspect, adjustable, anchor, share)\u001b[0m\n\u001b[1;32m    258\u001b[0m \u001b[39m\u001b[39m\u001b[39m\"\"\"\u001b[39;00m\n\u001b[1;32m    259\u001b[0m \u001b[39mSet the aspect ratios.\u001b[39;00m\n\u001b[1;32m    260\u001b[0m \n\u001b[0;32m   (...)\u001b[0m\n\u001b[1;32m    308\u001b[0m \u001b[39mmpl_toolkits.mplot3d.axes3d.Axes3D.set_box_aspect\u001b[39;00m\n\u001b[1;32m    309\u001b[0m \u001b[39m\"\"\"\u001b[39;00m\n\u001b[1;32m    310\u001b[0m \u001b[39mif\u001b[39;00m aspect \u001b[39m!=\u001b[39m \u001b[39m'\u001b[39m\u001b[39mauto\u001b[39m\u001b[39m'\u001b[39m:\n\u001b[0;32m--> 311\u001b[0m     \u001b[39mraise\u001b[39;00m \u001b[39mNotImplementedError\u001b[39;00m(\n\u001b[1;32m    312\u001b[0m         \u001b[39m\"\u001b[39m\u001b[39mAxes3D currently only supports the aspect argument \u001b[39m\u001b[39m\"\u001b[39m\n\u001b[1;32m    313\u001b[0m         \u001b[39mf\u001b[39m\u001b[39m\"\u001b[39m\u001b[39m'\u001b[39m\u001b[39mauto\u001b[39m\u001b[39m'\u001b[39m\u001b[39m. You passed in \u001b[39m\u001b[39m{\u001b[39;00maspect\u001b[39m!r}\u001b[39;00m\u001b[39m.\u001b[39m\u001b[39m\"\u001b[39m\n\u001b[1;32m    314\u001b[0m     )\n\u001b[1;32m    315\u001b[0m \u001b[39msuper\u001b[39m()\u001b[39m.\u001b[39mset_aspect(\n\u001b[1;32m    316\u001b[0m     aspect, adjustable\u001b[39m=\u001b[39madjustable, anchor\u001b[39m=\u001b[39manchor, share\u001b[39m=\u001b[39mshare)\n",
            "\u001b[0;31mNotImplementedError\u001b[0m: Axes3D currently only supports the aspect argument 'auto'. You passed in 'equal'."
          ]
        },
        {
          "data": {
            "image/png": "[encoded data removed]",
            "text/plain": [
              "<Figure size 640x480 with 1 Axes>"
            ]
          },
          "metadata": {},
          "output_type": "display_data"
        }
      ],
      "source": [
        "import numpy as np\n",
        "\n",
        "# Example usage with two bounding boxes\n",
        "\n",
        "x1, y1, z1, w1, l1, h1, theta1 = itemData[1][\"boxes_3d\"][0]\n",
        "\n",
        "x2, y2, z2, w2, l2, h2, theta2 = itemData[2][\"boxes_3d\"][0]\n",
        "\n",
        "box1  = get_3d_box((w1, l1, h1), theta1, (x1, y1, z1)) \n",
        "box2 = get_3d_box((w2, l2, h2), theta2, (x2, y2, z2))\n",
        "print(theta1)\n",
        "print(theta2)\n",
        "# Combine the two bounding boxes\n",
        "boxes = [box1, box2]\n",
        "print(boxes)\n",
        "# Plot the bounding boxes with different colors\n",
        "plot_bounding_boxes(boxes)\n",
        "\n"
      ]
    },
    {
      "cell_type": "code",
      "execution_count": null,
      "metadata": {},
      "outputs": [],
      "source": [
        "class Tracking(object):\n",
        "\n",
        "    def __init__(self, bbox3D, info):\n",
        "\n",
        "        self.current_tracklet_dict_list = []\n",
        "\n",
        "\n",
        "    def _update_history(self, bbox3D):\n",
        "        self.history = self.history[1:] + [bbox3D - self.prev_ref]"
      ]
    },
    {
      "cell_type": "code",
      "execution_count": 91,
      "metadata": {},
      "outputs": [
        {
          "ename": "ValueError",
          "evalue": "setting an array element with a sequence. The requested array has an inhomogeneous shape after 2 dimensions. The detected shape was (9, 8) + inhomogeneous part.",
          "output_type": "error",
          "traceback": [
            "\u001b[0;31m---------------------------------------------------------------------------\u001b[0m",
            "\u001b[0;31mValueError\u001b[0m                                Traceback (most recent call last)",
            "Cell \u001b[0;32mIn[91], line 1\u001b[0m\n\u001b[0;32m----> 1\u001b[0m detections \u001b[39m=\u001b[39m np\u001b[39m.\u001b[39;49mcopy(itemData[\u001b[39m0\u001b[39;49m][\u001b[39m\"\u001b[39;49m\u001b[39mboxes_3d\u001b[39;49m\u001b[39m\"\u001b[39;49m])\n\u001b[1;32m      2\u001b[0m \u001b[39mprint\u001b[39m(detections)\n",
            "File \u001b[0;32m<__array_function__ internals>:200\u001b[0m, in \u001b[0;36mcopy\u001b[0;34m(*args, **kwargs)\u001b[0m\n",
            "File \u001b[0;32m~/noah-ml/noah-venv/lib/python3.9/site-packages/numpy/lib/function_base.py:960\u001b[0m, in \u001b[0;36mcopy\u001b[0;34m(a, order, subok)\u001b[0m\n\u001b[1;32m    871\u001b[0m \u001b[39m@array_function_dispatch\u001b[39m(_copy_dispatcher)\n\u001b[1;32m    872\u001b[0m \u001b[39mdef\u001b[39;00m \u001b[39mcopy\u001b[39m(a, order\u001b[39m=\u001b[39m\u001b[39m'\u001b[39m\u001b[39mK\u001b[39m\u001b[39m'\u001b[39m, subok\u001b[39m=\u001b[39m\u001b[39mFalse\u001b[39;00m):\n\u001b[1;32m    873\u001b[0m \u001b[39m    \u001b[39m\u001b[39m\"\"\"\u001b[39;00m\n\u001b[1;32m    874\u001b[0m \u001b[39m    Return an array copy of the given object.\u001b[39;00m\n\u001b[1;32m    875\u001b[0m \n\u001b[0;32m   (...)\u001b[0m\n\u001b[1;32m    958\u001b[0m \n\u001b[1;32m    959\u001b[0m \u001b[39m    \"\"\"\u001b[39;00m\n\u001b[0;32m--> 960\u001b[0m     \u001b[39mreturn\u001b[39;00m array(a, order\u001b[39m=\u001b[39;49morder, subok\u001b[39m=\u001b[39;49msubok, copy\u001b[39m=\u001b[39;49m\u001b[39mTrue\u001b[39;49;00m)\n",
            "\u001b[0;31mValueError\u001b[0m: setting an array element with a sequence. The requested array has an inhomogeneous shape after 2 dimensions. The detected shape was (9, 8) + inhomogeneous part."
          ]
        }
      ],
      "source": [
        "detections = np.copy(itemData[0][\"boxes_3d\"])\n",
        "print(detections)"
      ]
    },
    {
      "cell_type": "code",
      "execution_count": 50,
      "metadata": {
        "colab": {
          "base_uri": "https://localhost:8080/"
        },
        "id": "ahUMDgvH8MHE",
        "outputId": "866ee092-709c-4061-9f84-8fe602cca1f3"
      },
      "outputs": [
        {
          "name": "stdout",
          "output_type": "stream",
          "text": [
            "9\n",
            "[[0.57151511 0.         0.         0.         0.         0.\n",
            "  0.         0.         0.        ]\n",
            " [0.         0.         0.52420831 0.         0.         0.\n",
            "  0.         0.         0.        ]\n",
            " [0.         0.43143368 0.         0.         0.         0.\n",
            "  0.         0.         0.        ]\n",
            " [0.         0.         0.         0.45629743 0.         0.\n",
            "  0.         0.02783226 0.        ]\n",
            " [0.         0.         0.         0.         0.57048681 0.\n",
            "  0.         0.         0.        ]\n",
            " [0.         0.         0.         0.         0.         0.27283976\n",
            "  0.         0.         0.        ]\n",
            " [0.         0.         0.         0.         0.         0.\n",
            "  0.4487557  0.         0.15721575]\n",
            " [0.         0.         0.         0.         0.         0.\n",
            "  0.         0.21657867 0.        ]\n",
            " [0.         0.         0.         0.         0.         0.\n",
            "  0.         0.         0.47279161]]\n",
            "Associations: [(0, 0), (1, 2), (2, 1), (3, 3), (4, 4), (5, 5), (6, 6), (6, 8), (7, 7), (8, 8)]\n",
            "Predicted Boxes:\n",
            "[-4.35000038  1.74203992 10.16906834]\n",
            "[ 3.16048765  1.72530043 15.6088686 ]\n",
            "[ 2.70748687  1.75052094 23.26690674]\n",
            "[-4.55051851  1.80204356 27.98768616]\n",
            "[ 2.6394732   1.77665317 35.91271973]\n",
            "[-4.63625097  1.71545768 33.46872711]\n",
            "[-4.63625097  1.71545768 33.46872711]\n",
            "[ 2.66780281  1.75272119 29.06363869]\n",
            "[-4.33052254  1.74559212 37.44499588]\n",
            "[-4.35237627  1.81467697 36.31972719]\n"
          ]
        }
      ],
      "source": [
        "import numpy as np\n",
        "from scipy.linalg import block_diag\n",
        "\n",
        "def kalman_filter(previous_boxes, detections, association_results):\n",
        "    # Kalman filter parameters\n",
        "    dt = 1.0  # Time step\n",
        "    A = np.array([\n",
        "        [1, 0, 0, dt, 0, 0],\n",
        "        [0, 1, 0, 0, dt, 0],\n",
        "        [0, 0, 1, 0, 0, dt],\n",
        "        [0, 0, 0, 1, 0, 0],\n",
        "        [0, 0, 0, 0, 1, 0],\n",
        "        [0, 0, 0, 0, 0, 1]\n",
        "    ])\n",
        "    H = np.array([\n",
        "        [1, 0, 0, 0, 0, 0],\n",
        "        [0, 1, 0, 0, 0, 0],\n",
        "        [0, 0, 1, 0, 0, 0]\n",
        "    ])\n",
        "    Q = block_diag(np.eye(3) * 0.1, np.eye(3) * 0.01)\n",
        "    R = np.eye(3) * 0.1\n",
        "\n",
        "    state = np.zeros(6)\n",
        "    covariance = np.eye(6)\n",
        "\n",
        "    predicted_boxes = []\n",
        "\n",
        "    for association in association_results:\n",
        "        previous_index, detection_index = association\n",
        "        previous_coordinates = previous_boxes[previous_index]\n",
        "        x, y, z = previous_coordinates[:3]\n",
        "        state[:3] = [x, y, z]\n",
        "\n",
        "        state = A.dot(state)\n",
        "        covariance = A.dot(covariance).dot(A.T) + Q\n",
        "\n",
        "        detection = detections[detection_index]\n",
        "        measurement = detection[:3]\n",
        "\n",
        "        residual = measurement - H.dot(state)\n",
        "        residual_covariance = H.dot(covariance).dot(H.T) + R\n",
        "        kalman_gain = covariance.dot(H.T).dot(np.linalg.inv(residual_covariance))\n",
        "\n",
        "        state += kalman_gain.dot(residual)\n",
        "        covariance = (np.eye(6) - kalman_gain.dot(H)).dot(covariance)\n",
        "\n",
        "        predicted_coordinates = state[:3]\n",
        "        predicted_boxes.append(predicted_coordinates)\n",
        "\n",
        "    return predicted_boxes\n",
        "\n",
        "# Example usage\n",
        "\n",
        "previous_boxes = itemData[0][\"boxes_3d\"]\n",
        "detections = itemData[1][\"boxes_3d\"]\n",
        "\n",
        "iou_matrix = compute_iou_matrix(previous_boxes, detections)\n",
        "row_indices, col_indices = perform_hungarian_algorithm(iou_matrix)\n",
        "associations = associate_detections(iou_matrix, threshold=0.1)\n",
        "\n",
        "print(\"Associations:\", associations)\n",
        "\n",
        "# Example usage\n",
        "\n",
        "# previous_boxes = [[0, 0, 0, 2, 2, 2, 0], [0, 0, 0, 2, 2, 2, 0]]\n",
        "# detections = [[3, 3, 3, 2, 2, 2, 0], [3, 3, 3, 2, 2, 2, 0]]\n",
        "# associations = [(0, 0), (1,1)]\n",
        "\n",
        "# Predict the next bounding boxes using Kalman filter\n",
        "predicted_boxes = kalman_filter(previous_boxes, detections, associations)\n",
        "\n",
        "print(\"Predicted Boxes:\")\n",
        "for box in predicted_boxes:\n",
        "    print(box)\n"
      ]
    },
    {
      "cell_type": "code",
      "execution_count": 23,
      "metadata": {
        "colab": {
          "base_uri": "https://localhost:8080/"
        },
        "id": "j-1Qw6b510Qt",
        "outputId": "35a7109f-f114-42b1-ced9-8b3c0290573f"
      },
      "outputs": [
        {
          "name": "stdout",
          "output_type": "stream",
          "text": [
            "Looking in indexes: https://pypi.org/simple, https://us-python.pkg.dev/colab-wheels/public/simple/\n",
            "Collecting filterpy\n",
            "  Downloading filterpy-1.4.5.zip (177 kB)\n",
            "\u001b[2K     \u001b[90m━━━━━━━━━━━━━━━━━━━━━━━━━━━━━━━━━━━━━━\u001b[0m \u001b[32m178.0/178.0 kB\u001b[0m \u001b[31m10.2 MB/s\u001b[0m eta \u001b[36m0:00:00\u001b[0m\n",
            "\u001b[?25h  Preparing metadata (setup.py) ... \u001b[?25l\u001b[?25hdone\n",
            "Requirement already satisfied: numpy in /usr/local/lib/python3.10/dist-packages (from filterpy) (1.22.4)\n",
            "Requirement already satisfied: scipy in /usr/local/lib/python3.10/dist-packages (from filterpy) (1.10.1)\n",
            "Requirement already satisfied: matplotlib in /usr/local/lib/python3.10/dist-packages (from filterpy) (3.7.1)\n",
            "Requirement already satisfied: contourpy>=1.0.1 in /usr/local/lib/python3.10/dist-packages (from matplotlib->filterpy) (1.0.7)\n",
            "Requirement already satisfied: cycler>=0.10 in /usr/local/lib/python3.10/dist-packages (from matplotlib->filterpy) (0.11.0)\n",
            "Requirement already satisfied: fonttools>=4.22.0 in /usr/local/lib/python3.10/dist-packages (from matplotlib->filterpy) (4.39.3)\n",
            "Requirement already satisfied: kiwisolver>=1.0.1 in /usr/local/lib/python3.10/dist-packages (from matplotlib->filterpy) (1.4.4)\n",
            "Requirement already satisfied: packaging>=20.0 in /usr/local/lib/python3.10/dist-packages (from matplotlib->filterpy) (23.1)\n",
            "Requirement already satisfied: pillow>=6.2.0 in /usr/local/lib/python3.10/dist-packages (from matplotlib->filterpy) (8.4.0)\n",
            "Requirement already satisfied: pyparsing>=2.3.1 in /usr/local/lib/python3.10/dist-packages (from matplotlib->filterpy) (3.0.9)\n",
            "Requirement already satisfied: python-dateutil>=2.7 in /usr/local/lib/python3.10/dist-packages (from matplotlib->filterpy) (2.8.2)\n",
            "Requirement already satisfied: six>=1.5 in /usr/local/lib/python3.10/dist-packages (from python-dateutil>=2.7->matplotlib->filterpy) (1.16.0)\n",
            "Building wheels for collected packages: filterpy\n",
            "  Building wheel for filterpy (setup.py) ... \u001b[?25l\u001b[?25hdone\n",
            "  Created wheel for filterpy: filename=filterpy-1.4.5-py3-none-any.whl size=110459 sha256=2f366517d561b2c84e3a1483b7f98f1c109a579525cc2d0002cdf97f10354497\n",
            "  Stored in directory: /root/.cache/pip/wheels/0f/0c/ea/218f266af4ad626897562199fbbcba521b8497303200186102\n",
            "Successfully built filterpy\n",
            "Installing collected packages: filterpy\n",
            "Successfully installed filterpy-1.4.5\n"
          ]
        }
      ],
      "source": [
        "!pip install filterpy"
      ]
    },
    {
      "cell_type": "code",
      "execution_count": 35,
      "metadata": {
        "id": "4mhN_Yr90xAZ"
      },
      "outputs": [],
      "source": [
        "import numpy as np\n",
        "from scipy.linalg import block_diag\n",
        "from filterpy.kalman import KalmanFilter\n",
        "\n",
        "def kalman_filter(associations, detections, previous_boxes):\n",
        "    # Kalman filter parameters\n",
        "    dt = 1.0  # Time step\n",
        "\n",
        "    num_boxes = len(previous_boxes)\n",
        "    num_detections = len(detections)\n",
        "    state_dim = 10  # [x, y, z, w, h, l, roty, dx, dy, dz]\n",
        "\n",
        "    # Initialize Kalman filter for each box\n",
        "    kf = [KalmanFilter(dim_x=state_dim, dim_z=7) for _ in range(num_boxes)]\n",
        "    for kf_i in kf:\n",
        "        kf_i.F = np.array([\n",
        "            [1, 0, 0, 0, 0, 0, 0, dt, 0, 0],\n",
        "            [0, 1, 0, 0, 0, 0, 0, 0, dt, 0],\n",
        "            [0, 0, 1, 0, 0, 0, 0, 0, 0, dt],\n",
        "            [0, 0, 0, 1, 0, 0, 0, 0, 0, 0],\n",
        "            [0, 0, 0, 0, 1, 0, 0, 0, 0, 0],\n",
        "            [0, 0, 0, 0, 0, 1, 0, 0, 0, 0],\n",
        "            [0, 0, 0, 0, 0, 0, 1, 0, 0, 0],\n",
        "            [0, 0, 0, 0, 0, 0, 0, 1, 0, 0],\n",
        "            [0, 0, 0, 0, 0, 0, 0, 0, 1, 0],\n",
        "            [0, 0, 0, 0, 0, 0, 0, 0, 0, 1]\n",
        "        ])\n",
        "        kf_i.H = np.array([\n",
        "            [1, 0, 0, 0, 0, 0, 0, 0, 0, 0],\n",
        "            [0, 1, 0, 0, 0, 0, 0, 0, 0, 0],\n",
        "            [0, 0, 1, 0, 0, 0, 0, 0, 0, 0],\n",
        "            [0, 0, 0, 1, 0, 0, 0, 0, 0, 0],\n",
        "            [0, 0, 0, 0, 1, 0, 0, 0, 0, 0],\n",
        "            [0, 0, 0, 0, 0, 1, 0, 0, 0, 0],\n",
        "            [0, 0, 0, 0, 0, 0, 1, 0, 0, 0]\n",
        "        ])\n",
        "        kf_i.P[7:, 7:] *= 1000.  # state uncertainty\n",
        "        kf_i.P *= 10.  # initial covariance matrix\n",
        "        kf_i.Q[7:, 7:] *= 0.01  # process uncertainty\n",
        "\n",
        "    # Perform Kalman filtering for each association\n",
        "    predicted_boxes = []\n",
        "    for i in range(num_boxes):\n",
        "      for j in range(num_detectins):\n",
        "        if \n",
        "    # for i in range(num_boxes):\n",
        "    #     assoc_i = associations[i]\n",
        "    #     detection_i = detections[assoc_i]\n",
        "    #     prev_box_i = previous_boxes[i]\n",
        "\n",
        "    #     # Predict step\n",
        "    #     kf[i].predict()\n",
        "\n",
        "    #     # Update step\n",
        "    #     kf[i].update(detection_i)\n",
        "\n",
        "    #     # Get the predicted state\n",
        "    #     predicted_state_i = kf[i].x[:7].reshape(-1)\n",
        "\n",
        "    #     # Combine the predicted state with previous box dimensions\n",
        "    #     predicted_box_i = np.concatenate((predicted_state_i, prev_box_i[3:]))\n",
        "\n",
        "    #     # Store the predicted box\n",
        "    #     predicted_boxes.append(predicted_box_i)\n",
        "\n",
        "    return predicted_boxes\n"
      ]
    },
    {
      "cell_type": "code",
      "execution_count": 37,
      "metadata": {
        "colab": {
          "base_uri": "https://localhost:8080/",
          "height": 657
        },
        "id": "dPUg8Rs71AhZ",
        "outputId": "c083ab89-3b1d-42c0-f5af-e0ee5e70b7a7"
      },
      "outputs": [
        {
          "name": "stdout",
          "output_type": "stream",
          "text": [
            "9\n",
            "[[0.57151511 0.         0.         0.         0.         0.\n",
            "  0.         0.         0.        ]\n",
            " [0.         0.         0.52420831 0.         0.         0.\n",
            "  0.         0.         0.        ]\n",
            " [0.         0.43143368 0.         0.         0.         0.\n",
            "  0.         0.         0.        ]\n",
            " [0.         0.         0.         0.45629743 0.         0.\n",
            "  0.         0.02783226 0.        ]\n",
            " [0.         0.         0.         0.         0.57048681 0.\n",
            "  0.         0.         0.        ]\n",
            " [0.         0.         0.         0.         0.         0.27283976\n",
            "  0.         0.         0.        ]\n",
            " [0.         0.         0.         0.         0.         0.\n",
            "  0.4487557  0.         0.15721575]\n",
            " [0.         0.         0.         0.         0.         0.\n",
            "  0.         0.21657867 0.        ]\n",
            " [0.         0.         0.         0.         0.         0.\n",
            "  0.         0.         0.47279161]]\n",
            "Associations: [(0, 0), (1, 2), (2, 1), (3, 3), (4, 4), (5, 5), (6, 6), (7, 7), (8, 8)]\n"
          ]
        },
        {
          "ename": "TypeError",
          "evalue": "ignored",
          "output_type": "error",
          "traceback": [
            "\u001b[0;31m---------------------------------------------------------------------------\u001b[0m",
            "\u001b[0;31mTypeError\u001b[0m                                 Traceback (most recent call last)",
            "\u001b[0;32m<ipython-input-37-3409f0a792e0>\u001b[0m in \u001b[0;36m<cell line: 15>\u001b[0;34m()\u001b[0m\n\u001b[1;32m     13\u001b[0m \u001b[0;34m\u001b[0m\u001b[0m\n\u001b[1;32m     14\u001b[0m \u001b[0;31m# Predict the next bounding box centers using Kalman filter\u001b[0m\u001b[0;34m\u001b[0m\u001b[0;34m\u001b[0m\u001b[0m\n\u001b[0;32m---> 15\u001b[0;31m \u001b[0mpredicted_boxes\u001b[0m \u001b[0;34m=\u001b[0m \u001b[0mkalman_filter\u001b[0m\u001b[0;34m(\u001b[0m\u001b[0mprevious_boxes\u001b[0m\u001b[0;34m,\u001b[0m \u001b[0mdetections\u001b[0m\u001b[0;34m,\u001b[0m \u001b[0massociations\u001b[0m\u001b[0;34m)\u001b[0m\u001b[0;34m\u001b[0m\u001b[0;34m\u001b[0m\u001b[0m\n\u001b[0m",
            "\u001b[0;32m<ipython-input-35-d69781ab322a>\u001b[0m in \u001b[0;36mkalman_filter\u001b[0;34m(associations, detections, previous_boxes)\u001b[0m\n\u001b[1;32m     42\u001b[0m     \u001b[0;32mfor\u001b[0m \u001b[0mi\u001b[0m \u001b[0;32min\u001b[0m \u001b[0mrange\u001b[0m\u001b[0;34m(\u001b[0m\u001b[0mnum_boxes\u001b[0m\u001b[0;34m)\u001b[0m\u001b[0;34m:\u001b[0m\u001b[0;34m\u001b[0m\u001b[0;34m\u001b[0m\u001b[0m\n\u001b[1;32m     43\u001b[0m         \u001b[0massoc_i\u001b[0m \u001b[0;34m=\u001b[0m \u001b[0massociations\u001b[0m\u001b[0;34m[\u001b[0m\u001b[0mi\u001b[0m\u001b[0;34m]\u001b[0m\u001b[0;34m\u001b[0m\u001b[0;34m\u001b[0m\u001b[0m\n\u001b[0;32m---> 44\u001b[0;31m         \u001b[0mdetection_i\u001b[0m \u001b[0;34m=\u001b[0m \u001b[0mdetections\u001b[0m\u001b[0;34m[\u001b[0m\u001b[0massoc_i\u001b[0m\u001b[0;34m]\u001b[0m\u001b[0;34m\u001b[0m\u001b[0;34m\u001b[0m\u001b[0m\n\u001b[0m\u001b[1;32m     45\u001b[0m         \u001b[0mprev_box_i\u001b[0m \u001b[0;34m=\u001b[0m \u001b[0mprevious_boxes\u001b[0m\u001b[0;34m[\u001b[0m\u001b[0mi\u001b[0m\u001b[0;34m]\u001b[0m\u001b[0;34m\u001b[0m\u001b[0;34m\u001b[0m\u001b[0m\n\u001b[1;32m     46\u001b[0m \u001b[0;34m\u001b[0m\u001b[0m\n",
            "\u001b[0;31mTypeError\u001b[0m: list indices must be integers or slices, not list"
          ]
        }
      ],
      "source": [
        "# Example usage\n",
        "\n",
        "previous_boxes = itemData[0][\"boxes_3d\"]\n",
        "detections = itemData[1][\"boxes_3d\"]\n",
        "\n",
        "iou_matrix = compute_iou_matrix(previous_boxes, detections)\n",
        "row_indices, col_indices = perform_hungarian_algorithm(iou_matrix)\n",
        "associations = associate_detections(iou_matrix, threshold=0.2)\n",
        "\n",
        "print(\"Associations:\", associations)\n",
        "\n",
        "\n",
        "\n",
        "# Predict the next bounding box centers using Kalman filter\n",
        "predicted_boxes = kalman_filter(previous_boxes, detections, associations)\n"
      ]
    },
    {
      "cell_type": "code",
      "execution_count": 39,
      "metadata": {
        "colab": {
          "base_uri": "https://localhost:8080/"
        },
        "id": "SVK_uJfE2nL6",
        "outputId": "4d2153cd-76ae-4d4a-f669-cc1b04448083"
      },
      "outputs": [
        {
          "data": {
            "text/plain": [
              "[2.891590118408203,\n",
              " 1.734866976737976,\n",
              " 9.661922454833984,\n",
              " 3.786503791809082,\n",
              " 1.4485008716583252,\n",
              " 1.5928544998168945,\n",
              " -1.5819451808929443]"
            ]
          },
          "execution_count": 39,
          "metadata": {},
          "output_type": "execute_result"
        }
      ],
      "source": [
        "detections[0]"
      ]
    },
    {
      "cell_type": "code",
      "execution_count": 40,
      "metadata": {
        "id": "ZuNnW3bxPZEU"
      },
      "outputs": [],
      "source": [
        "import numpy as np\n",
        "\n",
        "import torch\n",
        "\n",
        "\n",
        "# TRACKER_MODEL_ZOO = {\n",
        "#     'KalmanBox3DTracker': KalmanBox3DTracker,\n",
        "#     'LSTM3DTracker': LSTM3DTracker,\n",
        "#     'DummyTracker': DummyTracker,\n",
        "# }\n",
        "\n",
        "\n",
        "# def get_tracker(tracker_model_name) -> object:\n",
        "#     tracker_model = TRACKER_MODEL_ZOO.get(tracker_model_name, None)\n",
        "#     if tracker_model is None:\n",
        "#         raise NotImplementedError\n",
        "\n",
        "#     return tracker_model\n"
      ]
    },
    {
      "cell_type": "code",
      "execution_count": null,
      "metadata": {
        "id": "eoKg8eF-1zDA"
      },
      "outputs": [],
      "source": []
    },
    {
      "cell_type": "code",
      "execution_count": 31,
      "metadata": {
        "id": "_7p9cPfVTN3q"
      },
      "outputs": [],
      "source": []
    },
    {
      "cell_type": "code",
      "execution_count": 32,
      "metadata": {
        "colab": {
          "base_uri": "https://localhost:8080/"
        },
        "id": "yvHmR8t8UCu_",
        "outputId": "0a4b5f60-fa9b-4869-8aad-748f0005fd7c"
      },
      "outputs": [
        {
          "data": {
            "text/plain": [
              "array([-15.71,   2.16,  38.26,   1.57,   4.01,   1.76,   1.49])"
            ]
          },
          "execution_count": 32,
          "metadata": {},
          "output_type": "execute_result"
        }
      ],
      "source": [
        "bbox3d = np.array([x,y,z,theta,l,w,h])\n",
        "bbox3d"
      ]
    },
    {
      "cell_type": "code",
      "execution_count": null,
      "metadata": {
        "id": "HgYus9f3ygs0"
      },
      "outputs": [],
      "source": [
        "bbo"
      ]
    },
    {
      "cell_type": "code",
      "execution_count": 26,
      "metadata": {
        "colab": {
          "base_uri": "https://localhost:8080/"
        },
        "id": "zPO0X5ZOTcCs",
        "outputId": "0730dc8d-73a1-4fe6-a00a-9d2653289acb"
      },
      "outputs": [
        {
          "data": {
            "text/plain": [
              "[2.858652353286743,\n",
              " 1.673215627670288,\n",
              " 10.51982593536377,\n",
              " 3.854074001312256,\n",
              " 1.443990707397461,\n",
              " 1.6053922176361084,\n",
              " -1.568232536315918]"
            ]
          },
          "execution_count": 26,
          "metadata": {},
          "output_type": "execute_result"
        }
      ],
      "source": [
        "myKalman3DTracker = KalmanBox3DTracker(bbox3d, None)"
      ]
    },
    {
      "cell_type": "code",
      "execution_count": 27,
      "metadata": {
        "colab": {
          "base_uri": "https://localhost:8080/",
          "height": 283
        },
        "id": "7rE3TNJ1Tiyo",
        "outputId": "f9ed69ad-5580-49fd-d93f-7ab4fd2b140a"
      },
      "outputs": [
        {
          "ename": "AttributeError",
          "evalue": "ignored",
          "output_type": "error",
          "traceback": [
            "\u001b[0;31m---------------------------------------------------------------------------\u001b[0m",
            "\u001b[0;31mAttributeError\u001b[0m                            Traceback (most recent call last)",
            "\u001b[0;32m<ipython-input-27-a26242ef1b11>\u001b[0m in \u001b[0;36m<cell line: 1>\u001b[0;34m()\u001b[0m\n\u001b[0;32m----> 1\u001b[0;31m \u001b[0mmyKalman3DTracker\u001b[0m \u001b[0;34m=\u001b[0m \u001b[0mKalmanBox3DTracker\u001b[0m\u001b[0;34m(\u001b[0m\u001b[0mbbox3d\u001b[0m\u001b[0;34m,\u001b[0m \u001b[0;32mNone\u001b[0m\u001b[0;34m)\u001b[0m\u001b[0;34m\u001b[0m\u001b[0;34m\u001b[0m\u001b[0m\n\u001b[0m",
            "\u001b[0;32m<ipython-input-24-5f0858688fac>\u001b[0m in \u001b[0;36m__init__\u001b[0;34m(self, bbox3D, info)\u001b[0m\n\u001b[1;32m     50\u001b[0m         \u001b[0;31m# self.kf.Q[-1,-1] *= 0.01    # process uncertainty\u001b[0m\u001b[0;34m\u001b[0m\u001b[0;34m\u001b[0m\u001b[0m\n\u001b[1;32m     51\u001b[0m         \u001b[0mself\u001b[0m\u001b[0;34m.\u001b[0m\u001b[0mkf\u001b[0m\u001b[0;34m.\u001b[0m\u001b[0mQ\u001b[0m\u001b[0;34m[\u001b[0m\u001b[0;36m7\u001b[0m\u001b[0;34m:\u001b[0m\u001b[0;34m,\u001b[0m \u001b[0;36m7\u001b[0m\u001b[0;34m:\u001b[0m\u001b[0;34m]\u001b[0m \u001b[0;34m*=\u001b[0m \u001b[0;36m0.01\u001b[0m\u001b[0;34m\u001b[0m\u001b[0;34m\u001b[0m\u001b[0m\n\u001b[0;32m---> 52\u001b[0;31m         \u001b[0mself\u001b[0m\u001b[0;34m.\u001b[0m\u001b[0mkf\u001b[0m\u001b[0;34m.\u001b[0m\u001b[0mx\u001b[0m\u001b[0;34m[\u001b[0m\u001b[0;34m:\u001b[0m\u001b[0;36m7\u001b[0m\u001b[0;34m]\u001b[0m \u001b[0;34m=\u001b[0m \u001b[0mbbox3D\u001b[0m\u001b[0;34m.\u001b[0m\u001b[0mreshape\u001b[0m\u001b[0;34m(\u001b[0m\u001b[0;34m(\u001b[0m\u001b[0;36m7\u001b[0m\u001b[0;34m,\u001b[0m \u001b[0;36m1\u001b[0m\u001b[0;34m)\u001b[0m\u001b[0;34m)\u001b[0m\u001b[0;34m\u001b[0m\u001b[0;34m\u001b[0m\u001b[0m\n\u001b[0m\u001b[1;32m     53\u001b[0m \u001b[0;34m\u001b[0m\u001b[0m\n\u001b[1;32m     54\u001b[0m         \u001b[0mself\u001b[0m\u001b[0;34m.\u001b[0m\u001b[0mtime_since_update\u001b[0m \u001b[0;34m=\u001b[0m \u001b[0;36m0\u001b[0m\u001b[0;34m\u001b[0m\u001b[0;34m\u001b[0m\u001b[0m\n",
            "\u001b[0;31mAttributeError\u001b[0m: 'list' object has no attribute 'reshape'"
          ]
        }
      ],
      "source": [
        "# Next image :\n",
        "bbox3d = 1.05 * bbox3d\n",
        "bbox3d[3] = 1.57\n",
        "bbox3d"
      ]
    },
    {
      "cell_type": "code",
      "execution_count": null,
      "metadata": {
        "id": "NI14nnbhTo92"
      },
      "outputs": [],
      "source": [
        "myKalman3DTracker.update(bbox3d, None)"
      ]
    },
    {
      "cell_type": "code",
      "execution_count": null,
      "metadata": {
        "id": "bWTJzQytXFiJ"
      },
      "outputs": [],
      "source": [
        "myKalman3DTracker.get_history()"
      ]
    },
    {
      "cell_type": "code",
      "execution_count": null,
      "metadata": {
        "id": "4aXFaie8XoQ7"
      },
      "outputs": [],
      "source": [
        "myKalman3DTracker.predict(True)"
      ]
    },
    {
      "cell_type": "code",
      "execution_count": null,
      "metadata": {
        "id": "roIpyqYjPlRX"
      },
      "outputs": [],
      "source": [
        "# Next image :\n",
        "bbox3d = 1.05 * bbox3d\n",
        "bbox3d[3] = 1.57\n",
        "bbox3d"
      ]
    },
    {
      "cell_type": "code",
      "execution_count": null,
      "metadata": {
        "id": "FQFg9p0cPrzz"
      },
      "outputs": [],
      "source": [
        "myKalman3DTracker.update(bbox3d, None)"
      ]
    },
    {
      "cell_type": "code",
      "execution_count": null,
      "metadata": {
        "id": "QSqJnFM7SFmD"
      },
      "outputs": [],
      "source": [
        "myKalman3DTracker.predict(True)"
      ]
    },
    {
      "cell_type": "code",
      "execution_count": null,
      "metadata": {
        "id": "Vzgn8xBkP9H6"
      },
      "outputs": [],
      "source": [
        "myKalman3DTracker.get_history()"
      ]
    },
    {
      "cell_type": "code",
      "execution_count": null,
      "metadata": {
        "id": "qD9_JdGkRPXi"
      },
      "outputs": [],
      "source": [
        "for i in range(5):\n",
        "  # Next image :\n",
        "  bbox3d = 1.05 * bbox3d\n",
        "  bbox3d[3] = 1.57\n",
        "  myKalman3DTracker.update(bbox3d, None)\n",
        "myKalman3DTracker.predict(True)"
      ]
    },
    {
      "cell_type": "code",
      "execution_count": null,
      "metadata": {
        "id": "yP_zRsRmdHF5"
      },
      "outputs": [],
      "source": [
        "myKalman3DTracker.id"
      ]
    },
    {
      "cell_type": "code",
      "execution_count": null,
      "metadata": {
        "id": "y8E4TIrOdJVV"
      },
      "outputs": [],
      "source": [
        "myKalman3DTracker.prev_ref"
      ]
    },
    {
      "cell_type": "code",
      "execution_count": null,
      "metadata": {
        "id": "km4eyZapdmGY"
      },
      "outputs": [],
      "source": [
        "from mpl_toolkits import mplot3d"
      ]
    },
    {
      "cell_type": "code",
      "execution_count": null,
      "metadata": {
        "id": "u2JZCtPHenyJ"
      },
      "outputs": [],
      "source": [
        "%matplotlib inline\n",
        "import numpy as np\n",
        "import matplotlib.pyplot as plt"
      ]
    },
    {
      "cell_type": "code",
      "execution_count": null,
      "metadata": {
        "id": "NtI8DghCeuL3"
      },
      "outputs": [],
      "source": [
        "fig = plt.figure()\n",
        "ax = plt.axes(projection='3d')"
      ]
    }
  ],
  "metadata": {
    "accelerator": "GPU",
    "colab": {
      "gpuType": "T4",
      "provenance": []
    },
    "gpuClass": "standard",
    "kernelspec": {
      "display_name": "Python 3",
      "name": "python3"
    },
    "language_info": {
      "codemirror_mode": {
        "name": "ipython",
        "version": 3
      },
      "file_extension": ".py",
      "mimetype": "text/x-python",
      "name": "python",
      "nbconvert_exporter": "python",
      "pygments_lexer": "ipython3",
      "version": "3.9.2"
    }
  },
  "nbformat": 4,
  "nbformat_minor": 0
}
